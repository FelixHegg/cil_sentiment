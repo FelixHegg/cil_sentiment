{
 "cells": [
  {
   "cell_type": "code",
   "execution_count": 2,
   "id": "1bc5b03c-8729-4157-81c3-a61c44051684",
   "metadata": {},
   "outputs": [],
   "source": [
    "import pandas as pd\n",
    "import numpy as np\n",
    "from sklearn.utils import shuffle\n",
    "import glob"
   ]
  },
  {
   "cell_type": "code",
   "execution_count": 5,
   "id": "ee570fd0-0312-42bd-82dc-cc8e0a42d647",
   "metadata": {},
   "outputs": [
    {
     "name": "stderr",
     "output_type": "stream",
     "text": [
      "/opt/anaconda3/lib/python3.11/site-packages/numpy/core/fromnumeric.py:59: FutureWarning: 'DataFrame.swapaxes' is deprecated and will be removed in a future version. Please use 'DataFrame.transpose' instead.\n",
      "  return bound(*args, **kwds)\n"
     ]
    }
   ],
   "source": [
    "# 1. load your full data\n",
    "df = pd.read_csv('../data/training.csv')\n",
    "\n",
    "# 2. take a reproducible random sample of 100 rows\n",
    "df100 = df.sample(n=100, random_state=42).reset_index(drop=True)\n",
    "\n",
    "# 3. drop the existing label column\n",
    "df100_nolabel = df100[[\"id\",\"sentence\"]]\n",
    "df100_nolabel[\"label\"] = \"\"        # ← empty column for your teammates\n",
    "\n",
    "# 4. split into four 25-row chunks\n",
    "chunks = np.array_split(df100_nolabel, 4)\n",
    "\n",
    "# 5. write each chunk\n",
    "for i, chunk in enumerate(chunks, start=1):\n",
    "    chunk.to_csv(f\"group_member_{i}_to_label.csv\", index=False)\n",
    "\n",
    "# Now you have:\n",
    "#   group_member_1_to_label.csv\n",
    "#   group_member_2_to_label.csv\n",
    "#   group_member_3_to_label.csv\n",
    "#   group_member_4_to_label.csv\n",
    "#\n",
    "# Each file contains only “id” and “sentence” and exactly 25 rows."
   ]
  },
  {
   "cell_type": "code",
   "execution_count": 4,
   "id": "2864ef0b-f831-4477-aac9-2647224d398e",
   "metadata": {},
   "outputs": [],
   "source": [
    "# AFTER your teammates label their 25 sentences, you’ll get back four CSVs of form:\n",
    "#   id,sentence,label\n",
    "# with 25 rows each. To merge them back into one “100-row with labels” CSV:\n",
    "# pick up the 4 returned files\n",
    "files = glob.glob(\"group_member_*_to_label.csv\")\n",
    "\n",
    "# read & concatenate\n",
    "labeled = pd.concat((pd.read_csv(f) for f in files), ignore_index=True)\n",
    "\n",
    "# lowercase the labels\n",
    "labeled[\"label\"] = labeled[\"label\"].str.lower().str.strip()\n",
    "\n",
    "# rename the teammates’ “label” column to “pred_label”\n",
    "labeled = labeled.rename(columns={\"label\": \"pred_label\"})\n",
    "\n",
    "# now save\n",
    "labeled.to_csv(\"100_labeled_by_team.csv\", index=False)"
   ]
  },
  {
   "cell_type": "code",
   "execution_count": 9,
   "id": "ac145760-f958-40b1-9405-d7034a2ce177",
   "metadata": {},
   "outputs": [
    {
     "name": "stdout",
     "output_type": "stream",
     "text": [
      "Accuracy: 62.00%\n",
      "\n",
      "Classification Report:\n",
      "              precision    recall  f1-score   support\n",
      "\n",
      "    negative       0.46      0.71      0.56        17\n",
      "     neutral       0.71      0.62      0.66        55\n",
      "    positive       0.62      0.57      0.59        28\n",
      "\n",
      "    accuracy                           0.62       100\n",
      "   macro avg       0.60      0.63      0.60       100\n",
      "weighted avg       0.64      0.62      0.62       100\n",
      "\n",
      "\n",
      "Confusion Matrix:\n",
      "          pred_neg  pred_neu  pred_pos\n",
      "true_neg        12         5         0\n",
      "true_neu        11        34        10\n",
      "true_pos         3         9        16\n"
     ]
    }
   ],
   "source": [
    "from sklearn.metrics import accuracy_score, classification_report, confusion_matrix\n",
    "\n",
    "# 1. Load the “100_labeled_by_team.csv” (your teammates’ labels + id, sentence)\n",
    "pred = pd.read_csv(\"100_labeled_by_team.csv\")  \n",
    "#    columns: id, sentence, pred_label\n",
    "\n",
    "# 2. Load the original data (which has the true “label”)\n",
    "true = pd.read_csv(\"../data/training.csv\")[[\"id\",\"label\"]]\n",
    "\n",
    "# 3. Merge on “id” to align predictions and ground-truth\n",
    "df = pred.merge(true, on=\"id\", how=\"left\")\n",
    "#    df now has columns: id, sentence, pred_label, label\n",
    "\n",
    "# 4. Compute simple accuracy\n",
    "acc = accuracy_score(df[\"label\"], df[\"pred_label\"])\n",
    "print(f\"Accuracy: {acc:.2%}\")\n",
    "# 5. (Optional) Get precision/recall/F1 per class\n",
    "print(\"\\nClassification Report:\")\n",
    "print(classification_report(df[\"label\"], df[\"pred_label\"], zero_division=0))\n",
    "\n",
    "# 6. (Optional) Confusion matrix\n",
    "cm = confusion_matrix(df[\"label\"], df[\"pred_label\"], labels=[\"negative\",\"neutral\",\"positive\"])\n",
    "cm_df = pd.DataFrame(cm, index=[\"true_neg\",\"true_neu\",\"true_pos\"], \n",
    "                         columns=[\"pred_neg\",\"pred_neu\",\"pred_pos\"])\n",
    "print(\"\\nConfusion Matrix:\")\n",
    "print(cm_df)"
   ]
  },
  {
   "cell_type": "code",
   "execution_count": 18,
   "id": "784f19e3-5ea1-4458-b16f-40834474f85b",
   "metadata": {},
   "outputs": [
    {
     "name": "stdout",
     "output_type": "stream",
     "text": [
      "       id                                           sentence pred_label  \\\n",
      "0   84457                                       she blurted.   negative   \n",
      "1   33315               $10 is the minimum tip they ask for.   negative   \n",
      "2   95755            Once arriving home, we opened our food.    neutral   \n",
      "3   99353  Please take my word for this: I eat some grimy...   positive   \n",
      "4   23628  I call him at 9:48 and hey said they were on t...    neutral   \n",
      "..    ...                                                ...        ...   \n",
      "95  64678  I'll make sure to walk a block south over to S...   positive   \n",
      "96  21666  I will admit that the food is all presented ve...   positive   \n",
      "97  82393  They kind of reminded me of the ones served at...    neutral   \n",
      "98  29891  A friend and I decided to come here for dinner...   positive   \n",
      "99  64529                           My truck didnt start up.   negative   \n",
      "\n",
      "       label  \n",
      "0    neutral  \n",
      "1    neutral  \n",
      "2    neutral  \n",
      "3   positive  \n",
      "4    neutral  \n",
      "..       ...  \n",
      "95  positive  \n",
      "96  positive  \n",
      "97   neutral  \n",
      "98   neutral  \n",
      "99   neutral  \n",
      "\n",
      "[100 rows x 4 columns]\n"
     ]
    }
   ],
   "source": [
    "print(df)"
   ]
  },
  {
   "cell_type": "code",
   "execution_count": null,
   "id": "52923b14-3e7d-4744-bc62-f2ef292103ac",
   "metadata": {},
   "outputs": [],
   "source": []
  }
 ],
 "metadata": {
  "kernelspec": {
   "display_name": "Python 3 (ipykernel)",
   "language": "python",
   "name": "python3"
  },
  "language_info": {
   "codemirror_mode": {
    "name": "ipython",
    "version": 3
   },
   "file_extension": ".py",
   "mimetype": "text/x-python",
   "name": "python",
   "nbconvert_exporter": "python",
   "pygments_lexer": "ipython3",
   "version": "3.11.7"
  }
 },
 "nbformat": 4,
 "nbformat_minor": 5
}
