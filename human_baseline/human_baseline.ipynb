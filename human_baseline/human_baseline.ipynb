{
 "cells": [
  {
   "cell_type": "code",
   "execution_count": 3,
   "id": "1bc5b03c-8729-4157-81c3-a61c44051684",
   "metadata": {},
   "outputs": [],
   "source": [
    "import pandas as pd\n",
    "import numpy as np\n",
    "from sklearn.utils import shuffle"
   ]
  },
  {
   "cell_type": "code",
   "execution_count": 5,
   "id": "ee570fd0-0312-42bd-82dc-cc8e0a42d647",
   "metadata": {},
   "outputs": [
    {
     "name": "stderr",
     "output_type": "stream",
     "text": [
      "/opt/anaconda3/lib/python3.11/site-packages/numpy/core/fromnumeric.py:59: FutureWarning: 'DataFrame.swapaxes' is deprecated and will be removed in a future version. Please use 'DataFrame.transpose' instead.\n",
      "  return bound(*args, **kwds)\n"
     ]
    }
   ],
   "source": [
    "# 1. load your full data\n",
    "df = pd.read_csv('../data/training.csv')\n",
    "\n",
    "# 2. take a reproducible random sample of 100 rows\n",
    "df100 = df.sample(n=100, random_state=42).reset_index(drop=True)\n",
    "\n",
    "# 3. drop the existing label column\n",
    "df100_nolabel = df100[[\"id\",\"sentence\"]]\n",
    "df100_nolabel[\"label\"] = \"\"        # ← empty column for your teammates\n",
    "\n",
    "# 4. split into four 25-row chunks\n",
    "chunks = np.array_split(df100_nolabel, 4)\n",
    "\n",
    "# 5. write each chunk\n",
    "for i, chunk in enumerate(chunks, start=1):\n",
    "    chunk.to_csv(f\"group_member_{i}_to_label.csv\", index=False)\n",
    "\n",
    "# Now you have:\n",
    "#   group_member_1_to_label.csv\n",
    "#   group_member_2_to_label.csv\n",
    "#   group_member_3_to_label.csv\n",
    "#   group_member_4_to_label.csv\n",
    "#\n",
    "# Each file contains only “id” and “sentence” and exactly 25 rows."
   ]
  },
  {
   "cell_type": "code",
   "execution_count": null,
   "id": "2864ef0b-f831-4477-aac9-2647224d398e",
   "metadata": {},
   "outputs": [],
   "source": [
    "# AFTER your teammates label their 25 sentences, you’ll get back four CSVs of form:\n",
    "#   id,sentence,label\n",
    "# with 25 rows each. To merge them back into one “100-row with labels” CSV:\n",
    "import glob\n",
    "files = glob.glob(\"group_member_*_labeled.csv\")  # wherever they save them\n",
    "\n",
    "labeled = pd.concat((pd.read_csv(f) for f in files), ignore_index=True)\n",
    "\n",
    "# (optional) re-order to match the original sampled order\n",
    "labeled = labeled.set_index(\"id\").loc[df100[\"id\"]].reset_index()\n",
    "\n",
    "labeled.to_csv(\"100_labeled_by_team.csv\", index=False)"
   ]
  }
 ],
 "metadata": {
  "kernelspec": {
   "display_name": "Python 3 (ipykernel)",
   "language": "python",
   "name": "python3"
  },
  "language_info": {
   "codemirror_mode": {
    "name": "ipython",
    "version": 3
   },
   "file_extension": ".py",
   "mimetype": "text/x-python",
   "name": "python",
   "nbconvert_exporter": "python",
   "pygments_lexer": "ipython3",
   "version": "3.11.7"
  }
 },
 "nbformat": 4,
 "nbformat_minor": 5
}
