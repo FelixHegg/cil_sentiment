{
 "cells": [
  {
   "cell_type": "code",
   "execution_count": 1,
   "id": "eecde982-8ad7-44fd-bb9f-8d1de1113d4f",
   "metadata": {},
   "outputs": [],
   "source": [
    "# Import necessary libraries\n",
    "import pandas as pd\n",
    "from textblob import TextBlob\n",
    "import nltk\n",
    "from nltk.sentiment.vader import SentimentIntensityAnalyzer"
   ]
  },
  {
   "cell_type": "code",
   "execution_count": 19,
   "id": "31db2837-d289-4115-8204-9755a215dac0",
   "metadata": {},
   "outputs": [],
   "source": [
    "import re  # Import the regex module for text cleaning"
   ]
  },
  {
   "cell_type": "code",
   "execution_count": 2,
   "id": "6b0ea2b5-c56b-45c0-b2e3-cc22d13acdb7",
   "metadata": {},
   "outputs": [
    {
     "name": "stderr",
     "output_type": "stream",
     "text": [
      "[nltk_data] Downloading package vader_lexicon to\n",
      "[nltk_data]     /Users/Shana/nltk_data...\n"
     ]
    },
    {
     "data": {
      "text/plain": [
       "True"
      ]
     },
     "execution_count": 2,
     "metadata": {},
     "output_type": "execute_result"
    }
   ],
   "source": [
    "# Download the VADER lexicon (this only needs to be run once)\n",
    "nltk.download('vader_lexicon')"
   ]
  },
  {
   "cell_type": "code",
   "execution_count": 3,
   "id": "56d2f47e-8a62-4960-8ddb-b28878640c3b",
   "metadata": {},
   "outputs": [],
   "source": [
    "# Define the TextBlob sentiment function\n",
    "def textblob_sentiment(text, pos_threshold=0.1, neg_threshold=-0.1):\n",
    "    \"\"\"\n",
    "    Analyze text sentiment using TextBlob.\n",
    "    Returns \"positive\", \"negative\", or \"neutral\" based on polarity.\n",
    "    \"\"\"\n",
    "    blob = TextBlob(text)\n",
    "    polarity = blob.sentiment.polarity\n",
    "    if polarity > pos_threshold:\n",
    "        return \"positive\"\n",
    "    elif polarity < neg_threshold:\n",
    "        return \"negative\"\n",
    "    else:\n",
    "        return \"neutral\"\n",
    "\n",
    "# Initialize VADER's SentimentIntensityAnalyzer\n",
    "sia = SentimentIntensityAnalyzer()\n",
    "\n",
    "# Define the VADER sentiment function\n",
    "def vader_sentiment(text):\n",
    "    \"\"\"\n",
    "    Analyze text sentiment using VADER.\n",
    "    Returns \"positive\", \"negative\", or \"neutral\" using the compound score.\n",
    "    \"\"\"\n",
    "    scores = sia.polarity_scores(text)\n",
    "    compound = scores['compound']\n",
    "    if compound >= 0.05:\n",
    "        return \"positive\"\n",
    "    elif compound <= -0.05:\n",
    "        return \"negative\"\n",
    "    else:\n",
    "        return \"neutral\"\n"
   ]
  },
  {
   "cell_type": "code",
   "execution_count": 14,
   "id": "e2edefa6-3cc2-4844-9144-2c96281e1012",
   "metadata": {},
   "outputs": [
    {
     "name": "stdout",
     "output_type": "stream",
     "text": [
      "Training Data Preview:\n",
      "   id                                           sentence     label\n",
      "0   0  Those 2 drinks are part of the HK culture and ...  negative\n",
      "1   1  I was told by the repair company that was doin...  negative\n",
      "2   2             It is there to give them a good time .   neutral\n",
      "3   3  Like leafing through an album of photos accomp...  negative\n",
      "4   4         Johnny was a talker and liked to have fun.  positive\n",
      "\n",
      "Test Data Preview:\n",
      "   id                                           sentence\n",
      "0   0  Found Thai Spoon on the Vegan Pittsburgh website.\n",
      "1   1  Our bill came out to around $27 and we ate lik...\n",
      "2   2  State Farm broke down the costs for me of the ...\n",
      "3   3  The only con for this resto is the wait to get...\n",
      "4   4  We could hear the people above us stomping aro...\n"
     ]
    }
   ],
   "source": [
    "# --------------------------------------------------------------\n",
    "# 1. Load Training and Test Data\n",
    "# --------------------------------------------------------------\n",
    "\n",
    "# Load the training data (assumes CSV is at ../data/training.csv)\n",
    "training_data = pd.read_csv('../data/training.csv')\n",
    "print(\"Training Data Preview:\")\n",
    "print(training_data.head())\n",
    "\n",
    "# Load the test data (assumes CSV is at ../data/test.csv)\n",
    "test_data = pd.read_csv('../data/test.csv')\n",
    "print(\"\\nTest Data Preview:\")\n",
    "print(test_data.head())"
   ]
  },
  {
   "cell_type": "code",
   "execution_count": 22,
   "id": "482c3e68-218f-42be-b82e-1bd1c246a78a",
   "metadata": {},
   "outputs": [
    {
     "name": "stdout",
     "output_type": "stream",
     "text": [
      "\n",
      "Training Data with Sentiment Analysis:\n",
      "                                            sentence textblob_sentiment  \\\n",
      "0  those 2 drinks are part of the hk culture and ...           negative   \n",
      "1  i was told by the repair company that was doin...           negative   \n",
      "2             it is there to give them a good time .           positive   \n",
      "3  like leafing through an album of photos accomp...            neutral   \n",
      "4         johnny was a talker and liked to have fun.           positive   \n",
      "\n",
      "  vader_sentiment  \n",
      "0        negative  \n",
      "1         neutral  \n",
      "2        positive  \n",
      "3        positive  \n",
      "4        positive  \n"
     ]
    }
   ],
   "source": [
    "# --------------------------------------------------------------\n",
    "# 2. Apply Sentiment Analysis on the Training Data\n",
    "# --------------------------------------------------------------\n",
    "# Use the \"sentence\" column instead of \"text\"\n",
    "training_data['textblob_sentiment'] = training_data['sentence'].apply(textblob_sentiment)\n",
    "training_data['vader_sentiment'] = training_data['sentence'].apply(vader_sentiment)\n",
    "\n",
    "print(\"\\nTraining Data with Sentiment Analysis:\")\n",
    "print(training_data[['sentence', 'textblob_sentiment', 'vader_sentiment']].head())"
   ]
  },
  {
   "cell_type": "code",
   "execution_count": 20,
   "id": "47d80f93-04eb-4f1b-8d7a-bf869f42fa18",
   "metadata": {},
   "outputs": [],
   "source": [
    "training_data['sentence'] = training_data['sentence'].apply(clean_text)"
   ]
  },
  {
   "cell_type": "code",
   "execution_count": 23,
   "id": "6f24ca14-307b-4ef8-aa17-b8b596419100",
   "metadata": {},
   "outputs": [
    {
     "name": "stdout",
     "output_type": "stream",
     "text": [
      "\n",
      "TextBlob: 56896 out of 102097 predictions are correct, accuracy: 0.56\n",
      "VADER: 59841 out of 102097 predictions are correct, accuracy: 0.59\n"
     ]
    }
   ],
   "source": [
    "# ---------------------------------------------------------------------\n",
    "# 3. Calculate the Error (Accuracy) on the Training Data\n",
    "# ---------------------------------------------------------------------\n",
    "# Here we compare the sentiment predictions to the true 'label' column in your training data.\n",
    "textblob_correct = (training_data['textblob_sentiment'] == training_data['label']).sum()\n",
    "vader_correct = (training_data['vader_sentiment'] == training_data['label']).sum()\n",
    "total_training = len(training_data)\n",
    "\n",
    "textblob_accuracy = textblob_correct / total_training\n",
    "vader_accuracy = vader_correct / total_training\n",
    "\n",
    "print(f\"\\nTextBlob: {textblob_correct} out of {total_training} predictions are correct, accuracy: {textblob_accuracy:.2f}\")\n",
    "print(f\"VADER: {vader_correct} out of {total_training} predictions are correct, accuracy: {vader_accuracy:.2f}\")"
   ]
  },
  {
   "cell_type": "code",
   "execution_count": 9,
   "id": "8d3c2416-58ee-43d7-bb16-cbd762fa7635",
   "metadata": {},
   "outputs": [
    {
     "name": "stdout",
     "output_type": "stream",
     "text": [
      "\n",
      "Test Data with Both Predicted Labels:\n",
      "   id textblob_pred vader_pred\n",
      "0   0       neutral    neutral\n",
      "1   1      positive   positive\n",
      "2   2      negative   negative\n",
      "3   3       neutral    neutral\n",
      "4   4       neutral    neutral\n"
     ]
    }
   ],
   "source": [
    "# ------------------------------------------------------------------------------\n",
    "# 4. Apply Sentiment Analysis on the Test Data and Create Submissions\n",
    "# ------------------------------------------------------------------------------\n",
    "# Use the \"sentence\" column from your test data to get predictions with both methods.\n",
    "test_data['textblob_pred'] = test_data['sentence'].apply(textblob_sentiment)\n",
    "test_data['vader_pred'] = test_data['sentence'].apply(vader_sentiment)\n",
    "\n",
    "print(\"\\nTest Data with Both Predicted Labels:\")\n",
    "print(test_data[['id', 'textblob_pred', 'vader_pred']].head())"
   ]
  },
  {
   "cell_type": "code",
   "execution_count": 10,
   "id": "df6b949b-b8d4-4b8b-9b91-77f0d466dfe9",
   "metadata": {},
   "outputs": [
    {
     "name": "stdout",
     "output_type": "stream",
     "text": [
      "\n",
      "Submission file 'submission_textblob.csv' has been created:\n",
      "   id     label\n",
      "0   0   neutral\n",
      "1   1  positive\n",
      "2   2  negative\n",
      "3   3   neutral\n",
      "4   4   neutral\n",
      "\n",
      "Submission file 'submission_vader.csv' has been created:\n",
      "   id     label\n",
      "0   0   neutral\n",
      "1   1  positive\n",
      "2   2  negative\n",
      "3   3   neutral\n",
      "4   4   neutral\n"
     ]
    }
   ],
   "source": [
    "# ------------------------------------------------------------------------------\n",
    "# 5. Create and Save the Submission Files\n",
    "# ------------------------------------------------------------------------------\n",
    "# Create submission for TextBlob results\n",
    "submission_textblob = test_data[['id']].copy()\n",
    "submission_textblob['label'] = test_data['textblob_pred']\n",
    "submission_textblob.to_csv(\"submission_textblob.csv\", index=False)\n",
    "print(\"\\nSubmission file 'submission_textblob.csv' has been created:\")\n",
    "print(submission_textblob.head())\n",
    "\n",
    "# Create submission for VADER results\n",
    "submission_vader = test_data[['id']].copy()\n",
    "submission_vader['label'] = test_data['vader_pred']\n",
    "submission_vader.to_csv(\"submission_vader.csv\", index=False)\n",
    "print(\"\\nSubmission file 'submission_vader.csv' has been created:\")\n",
    "print(submission_vader.head())"
   ]
  },
  {
   "cell_type": "code",
   "execution_count": 17,
   "id": "d1c9497a-cfec-46cc-a50c-2e7394dbc574",
   "metadata": {},
   "outputs": [],
   "source": [
    "def clean_text(text):\n",
    "    \"\"\"Clean input text: convert to lowercase and remove extra whitespace.\"\"\"\n",
    "    text = text.lower()                  # convert to lowercase\n",
    "    text = re.sub(r'\\s+', ' ', text)      # remove excessive spaces/newlines\n",
    "    return text.strip()"
   ]
  },
  {
   "cell_type": "code",
   "execution_count": null,
   "id": "e3423f0a-18da-4a78-8e28-76f40a708a40",
   "metadata": {},
   "outputs": [],
   "source": []
  }
 ],
 "metadata": {
  "kernelspec": {
   "display_name": "Python 3 (ipykernel)",
   "language": "python",
   "name": "python3"
  },
  "language_info": {
   "codemirror_mode": {
    "name": "ipython",
    "version": 3
   },
   "file_extension": ".py",
   "mimetype": "text/x-python",
   "name": "python",
   "nbconvert_exporter": "python",
   "pygments_lexer": "ipython3",
   "version": "3.11.7"
  }
 },
 "nbformat": 4,
 "nbformat_minor": 5
}
