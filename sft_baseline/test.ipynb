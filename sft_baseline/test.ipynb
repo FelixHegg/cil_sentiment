{
 "cells": [
  {
   "cell_type": "code",
   "execution_count": 8,
   "id": "b68488ed",
   "metadata": {},
   "outputs": [],
   "source": [
    "import torch\n",
    "from datasets import load_dataset\n",
    "from peft import get_peft_model, LoraConfig, prepare_model_for_kbit_training, PeftModel\n",
    "from transformers import (\n",
    "    AutoModelForCausalLM,\n",
    "    AutoTokenizer,\n",
    "    BitsAndBytesConfig,\n",
    ")\n",
    "import yaml\n",
    "import re\n"
   ]
  },
  {
   "cell_type": "code",
   "execution_count": 2,
   "id": "bf265962",
   "metadata": {},
   "outputs": [
    {
     "name": "stderr",
     "output_type": "stream",
     "text": [
      "Loading checkpoint shards: 100%|██████████| 2/2 [00:03<00:00,  1.81s/it]\n"
     ]
    }
   ],
   "source": [
    "def _load_model() -> AutoModelForCausalLM:\n",
    "    \"\"\"Load model.\"\"\"\n",
    "    dtype = torch.bfloat16 if torch.cuda.is_bf16_supported() else torch.float16\n",
    "    quant_config = BitsAndBytesConfig(\n",
    "        load_in_4bit=True,\n",
    "        bnb_4bit_compute_dtype=dtype,\n",
    "        bnb_4bit_quant_type=\"nf4\",\n",
    "        bnb_4bit_use_double_quant=True,\n",
    "    )\n",
    "    base_model = AutoModelForCausalLM.from_pretrained(\n",
    "        \"Qwen/Qwen2.5-3B-Instruct\",\n",
    "        quantization_config=quant_config,\n",
    "        device_map=\"auto\",\n",
    "        low_cpu_mem_usage=True,\n",
    "    )\n",
    "    base_model = prepare_model_for_kbit_training(base_model)\n",
    "    \n",
    "    base_model.config.use_cache = False\n",
    "    base_model.gradient_checkpointing_enable()\n",
    "\n",
    "    model = PeftModel.from_pretrained(base_model, \"checkpoint-30\")\n",
    "    model.eval()\n",
    "    return model\n",
    "\n",
    "model = _load_model()"
   ]
  },
  {
   "cell_type": "code",
   "execution_count": 3,
   "id": "10b3f6ec",
   "metadata": {},
   "outputs": [],
   "source": [
    "tokenizer = AutoTokenizer.from_pretrained(\"Qwen/Qwen2.5-3B-Instruct\")"
   ]
  },
  {
   "cell_type": "code",
   "execution_count": 4,
   "id": "884030a9",
   "metadata": {},
   "outputs": [],
   "source": [
    "sentence = \"Those 2 drinks are part of the HK culture and has years of history. It is so bad.\"\n",
    "\n",
    "prompt = [\n",
    "    {\n",
    "        \"role\": \"system\",\n",
    "        \"content\": (\"You are a helpful assistant.\"),\n",
    "    },\n",
    "    {\n",
    "        \"role\": \"user\",\n",
    "        \"content\": (\n",
    "            f\"Determine the sentiment of the following text:\\n{sentence}\"\n",
    "            \"\\n Answer in one word. The answer can only be positive, negative, or neutral.\"\n",
    "        ),\n",
    "    },\n",
    "]\n",
    "\n",
    "inputs = {\"prompt\": tokenizer.apply_chat_template(prompt, tokenize=False)}\n"
   ]
  },
  {
   "cell_type": "code",
   "execution_count": 5,
   "id": "69c1462d",
   "metadata": {},
   "outputs": [],
   "source": [
    "tokenized = tokenizer(\n",
    "    inputs[\"prompt\"],\n",
    "    return_tensors=\"pt\",\n",
    "    truncation=True,\n",
    "    max_length=4096,\n",
    ").to(model.device)\n"
   ]
  },
  {
   "cell_type": "code",
   "execution_count": 6,
   "id": "74f90f27",
   "metadata": {},
   "outputs": [],
   "source": [
    "with torch.no_grad():\n",
    "    outputs = model.generate(\n",
    "        **tokenized,\n",
    "        max_new_tokens=100,\n",
    "        do_sample=True,\n",
    "    )\n",
    "    decoded = tokenizer.decode(outputs[0], skip_special_tokens=True)"
   ]
  },
  {
   "cell_type": "code",
   "execution_count": 12,
   "id": "471a9fad",
   "metadata": {},
   "outputs": [],
   "source": [
    "def extract_answer(result: str) -> str:\n",
    "    \"\"\"Get predicted answer from completion - positive, neutral, negative or error.\"\"\"\n",
    "    try:\n",
    "        answer = result.rsplit(\"\\n\", 1)[-1].strip()\n",
    "\n",
    "        print(f\"extracted answer: {answer}\")\n",
    "        if answer not in [\"positive\", \"negative\", \"neutral\"]:\n",
    "            return \"error\"\n",
    "\n",
    "        return answer\n",
    "\n",
    "    except Exception:\n",
    "        print(\"exeption\")\n",
    "        return \"error\""
   ]
  },
  {
   "cell_type": "code",
   "execution_count": 13,
   "id": "da7de10f",
   "metadata": {},
   "outputs": [
    {
     "name": "stdout",
     "output_type": "stream",
     "text": [
      "extracted answer: negative\n"
     ]
    },
    {
     "data": {
      "text/plain": [
       "'negative'"
      ]
     },
     "execution_count": 13,
     "metadata": {},
     "output_type": "execute_result"
    }
   ],
   "source": [
    "extract_answer(decoded)"
   ]
  }
 ],
 "metadata": {
  "kernelspec": {
   "display_name": "transformer_env",
   "language": "python",
   "name": "python3"
  },
  "language_info": {
   "codemirror_mode": {
    "name": "ipython",
    "version": 3
   },
   "file_extension": ".py",
   "mimetype": "text/x-python",
   "name": "python",
   "nbconvert_exporter": "python",
   "pygments_lexer": "ipython3",
   "version": "3.13.3"
  }
 },
 "nbformat": 4,
 "nbformat_minor": 5
}
